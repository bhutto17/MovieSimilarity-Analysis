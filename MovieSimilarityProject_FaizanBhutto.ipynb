{
 "cells": [
  {
   "cell_type": "markdown",
   "id": "c2b6d7e5-c454-4210-b686-ff3bfd934184",
   "metadata": {},
   "source": [
    "# Movie Similarities Project - Faizan Wali Bhutto"
   ]
  },
  {
   "cell_type": "code",
   "execution_count": 4,
   "id": "9fc4323c-3151-4d5c-8e93-02e898cc5aec",
   "metadata": {
    "execution": {
     "iopub.execute_input": "2024-11-06T00:51:50.235823Z",
     "iopub.status.busy": "2024-11-06T00:51:50.235464Z",
     "iopub.status.idle": "2024-11-06T00:51:50.332467Z",
     "shell.execute_reply": "2024-11-06T00:51:50.331067Z",
     "shell.execute_reply.started": "2024-11-06T00:51:50.235789Z"
    },
    "tags": []
   },
   "outputs": [
    {
     "data": {
      "application/vnd.jupyter.widget-view+json": {
       "model_id": "46a6cbefabf0453b83b202189e2bd554",
       "version_major": 2,
       "version_minor": 0
      },
      "text/plain": [
       "VBox()"
      ]
     },
     "metadata": {},
     "output_type": "display_data"
    },
    {
     "data": {
      "application/vnd.jupyter.widget-view+json": {
       "model_id": "",
       "version_major": 2,
       "version_minor": 0
      },
      "text/plain": [
       "FloatProgress(value=0.0, bar_style='info', description='Progress:', layout=Layout(height='25px', width='50%'),…"
      ]
     },
     "metadata": {},
     "output_type": "display_data"
    },
    {
     "name": "stdout",
     "output_type": "stream",
     "text": [
      "Spark session initialized: <pyspark.sql.session.SparkSession object at 0x7f5b6abb4df0>"
     ]
    }
   ],
   "source": [
    "# importing needed libraries\n",
    "from pyspark.sql import SparkSession\n",
    "from pyspark.sql.functions import col\n",
    "\n",
    "print(\"Spark session initialized:\", spark)"
   ]
  },
  {
   "cell_type": "code",
   "execution_count": 14,
   "id": "b9bb7497-2ad5-42ed-9e22-2c065f823b46",
   "metadata": {
    "execution": {
     "iopub.execute_input": "2024-11-06T02:14:43.555361Z",
     "iopub.status.busy": "2024-11-06T02:14:43.555074Z",
     "iopub.status.idle": "2024-11-06T02:15:19.011249Z",
     "shell.execute_reply": "2024-11-06T02:15:19.010022Z",
     "shell.execute_reply.started": "2024-11-06T02:14:43.555327Z"
    },
    "tags": []
   },
   "outputs": [
    {
     "data": {
      "application/vnd.jupyter.widget-view+json": {
       "model_id": "a427f339624f4f1296c44c7adcda05f8",
       "version_major": 2,
       "version_minor": 0
      },
      "text/plain": [
       "VBox()"
      ]
     },
     "metadata": {},
     "output_type": "display_data"
    },
    {
     "data": {
      "application/vnd.jupyter.widget-view+json": {
       "model_id": "",
       "version_major": 2,
       "version_minor": 0
      },
      "text/plain": [
       "FloatProgress(value=0.0, bar_style='info', description='Progress:', layout=Layout(height='25px', width='50%'),…"
      ]
     },
     "metadata": {},
     "output_type": "display_data"
    },
    {
     "name": "stdout",
     "output_type": "stream",
     "text": [
      "+------+-------+------+---------+\n",
      "|userId|movieId|rating|timestamp|\n",
      "+------+-------+------+---------+\n",
      "|     1|    122|   5.0|838985046|\n",
      "|     1|    185|   5.0|838983525|\n",
      "|     1|    231|   5.0|838983392|\n",
      "|     1|    292|   5.0|838983421|\n",
      "|     1|    316|   5.0|838983392|\n",
      "+------+-------+------+---------+\n",
      "only showing top 5 rows\n",
      "\n",
      "+-------+--------------------+--------------------+\n",
      "|movieId|               title|              genres|\n",
      "+-------+--------------------+--------------------+\n",
      "|      1|    Toy Story (1995)|Adventure|Animati...|\n",
      "|      2|      Jumanji (1995)|Adventure|Childre...|\n",
      "|      3|Grumpier Old Men ...|      Comedy|Romance|\n",
      "|      4|Waiting to Exhale...|Comedy|Drama|Romance|\n",
      "|      5|Father of the Bri...|              Comedy|\n",
      "+-------+--------------------+--------------------+\n",
      "only showing top 5 rows"
     ]
    }
   ],
   "source": [
    "#S3 path to the dataset\n",
    "s3_path = \"s3://faizans-bucket-asgn-6/ml-10M/\"\n",
    "\n",
    "#load ratings data\n",
    "ratings = spark.read.csv(s3_path + \"ratings.dat\", sep=\"::\", inferSchema=True, header=False)\n",
    "ratings = ratings.withColumnRenamed(\"_c0\", \"userId\") \\\n",
    "                 .withColumnRenamed(\"_c1\", \"movieId\") \\\n",
    "                 .withColumnRenamed(\"_c2\", \"rating\") \\\n",
    "                 .withColumnRenamed(\"_c3\", \"timestamp\")\n",
    "\n",
    "#loading movies data\n",
    "movies = spark.read.csv(s3_path + \"movies.dat\", sep=\"::\", inferSchema=True, header=False)\n",
    "movies = movies.withColumnRenamed(\"_c0\", \"movieId\") \\\n",
    "               .withColumnRenamed(\"_c1\", \"title\") \\\n",
    "               .withColumnRenamed(\"_c2\", \"genres\")\n",
    "\n",
    "#first few rows of each DF to verify\n",
    "ratings.show(5)\n",
    "movies.show(5)"
   ]
  },
  {
   "cell_type": "markdown",
   "id": "bc25dc31-697d-42c4-be32-7e268768d31d",
   "metadata": {},
   "source": [
    "### Prepping the data for similarity calculation"
   ]
  },
  {
   "cell_type": "code",
   "execution_count": 15,
   "id": "5e951c0e-c891-47ea-9468-aa150f13726a",
   "metadata": {
    "execution": {
     "iopub.execute_input": "2024-11-06T02:15:25.758618Z",
     "iopub.status.busy": "2024-11-06T02:15:25.758332Z",
     "iopub.status.idle": "2024-11-06T02:15:51.164307Z",
     "shell.execute_reply": "2024-11-06T02:15:51.163053Z",
     "shell.execute_reply.started": "2024-11-06T02:15:25.758584Z"
    },
    "tags": []
   },
   "outputs": [
    {
     "data": {
      "application/vnd.jupyter.widget-view+json": {
       "model_id": "31016b26041f434c9d84fb083a1626ac",
       "version_major": 2,
       "version_minor": 0
      },
      "text/plain": [
       "VBox()"
      ]
     },
     "metadata": {},
     "output_type": "display_data"
    },
    {
     "data": {
      "application/vnd.jupyter.widget-view+json": {
       "model_id": "",
       "version_major": 2,
       "version_minor": 0
      },
      "text/plain": [
       "FloatProgress(value=0.0, bar_style='info', description='Progress:', layout=Layout(height='25px', width='50%'),…"
      ]
     },
     "metadata": {},
     "output_type": "display_data"
    },
    {
     "name": "stdout",
     "output_type": "stream",
     "text": [
      "+----------------+--------------------+------+----------------+\n",
      "|      Movie Name|      Similar Movies|rating|toy_story_rating|\n",
      "+----------------+--------------------+------+----------------+\n",
      "|Toy Story (1995)|    Toy Story (1995)|   5.0|             5.0|\n",
      "|Toy Story (1995)|Sense and Sensibi...|   5.0|             5.0|\n",
      "|Toy Story (1995)|   Get Shorty (1995)|   4.0|             5.0|\n",
      "|Toy Story (1995)|City of Lost Chil...|   5.0|             5.0|\n",
      "|Toy Story (1995)|12 Monkeys (Twelv...|   5.0|             5.0|\n",
      "+----------------+--------------------+------+----------------+\n",
      "only showing top 5 rows"
     ]
    }
   ],
   "source": [
    "from pyspark.sql.functions import col, lit\n",
    "\n",
    "#filter ratings for toy story - movieId 1 and renaming for clarity\n",
    "toy_story_ratings = ratings.filter(ratings.movieId == 1).select(\"userId\", \"rating\").withColumnRenamed(\"rating\", \"toy_story_rating\")\n",
    "\n",
    "#join with the ratings DF to find other movies rated by users who rated toy story\n",
    "user_movie_ratings = ratings.join(toy_story_ratings, \"userId\")\n",
    "\n",
    "#joining with movies DF to get movie titles and prepare columns\n",
    "#renaming columns to match the required output\n",
    "user_movie_ratings = user_movie_ratings.join(movies, \"movieId\") \\\n",
    "    .select(\n",
    "        lit(\"Toy Story (1995)\").alias(\"Movie Name\"),  #\"Toy Story (1995)\" as the constant movie name\n",
    "        col(\"title\").alias(\"Similar Movies\"),         #renaming \"title\" to \"Similar Movies\"\n",
    "        col(\"rating\"),\n",
    "        col(\"toy_story_rating\")\n",
    "    )\n",
    "\n",
    "#first few rows\n",
    "user_movie_ratings.show(5)"
   ]
  },
  {
   "cell_type": "markdown",
   "id": "e770b62f-56e2-4896-a26f-2d6deffa1053",
   "metadata": {},
   "source": [
    "### Calculating the similarity scores"
   ]
  },
  {
   "cell_type": "code",
   "execution_count": 16,
   "id": "016a55d9-80c9-4631-8223-05ec6a94c1a9",
   "metadata": {
    "execution": {
     "iopub.execute_input": "2024-11-06T02:15:57.203724Z",
     "iopub.status.busy": "2024-11-06T02:15:57.203364Z",
     "iopub.status.idle": "2024-11-06T02:16:16.590535Z",
     "shell.execute_reply": "2024-11-06T02:16:16.589119Z",
     "shell.execute_reply.started": "2024-11-06T02:15:57.203672Z"
    },
    "tags": []
   },
   "outputs": [
    {
     "data": {
      "application/vnd.jupyter.widget-view+json": {
       "model_id": "4e26c780c5da41d8908bf786e2fd421c",
       "version_major": 2,
       "version_minor": 0
      },
      "text/plain": [
       "VBox()"
      ]
     },
     "metadata": {},
     "output_type": "display_data"
    },
    {
     "data": {
      "application/vnd.jupyter.widget-view+json": {
       "model_id": "",
       "version_major": 2,
       "version_minor": 0
      },
      "text/plain": [
       "FloatProgress(value=0.0, bar_style='info', description='Progress:', layout=Layout(height='25px', width='50%'),…"
      ]
     },
     "metadata": {},
     "output_type": "display_data"
    },
    {
     "name": "stdout",
     "output_type": "stream",
     "text": [
      "+----------------+--------------------+------------------+\n",
      "|      Movie Name|      Similar Movies|             score|\n",
      "+----------------+--------------------+------------------+\n",
      "|Toy Story (1995)|In Old Chicago (1...|0.9966215554619151|\n",
      "|Toy Story (1995)|Marooned in Iraq ...|0.9946998598171956|\n",
      "|Toy Story (1995)|They Died with Th...|0.9930166580182394|\n",
      "|Toy Story (1995)|Standard Operatin...|0.9924827921220798|\n",
      "|Toy Story (1995)|    Kings Row (1942)|0.9919860408658672|\n",
      "|Toy Story (1995)|Desperate Hours, ...|0.9902073326897796|\n",
      "|Toy Story (1995)|Piece of the Acti...|0.9896856126772272|\n",
      "|Toy Story (1995)|  Road to Rio (1947)|0.9895503677685183|\n",
      "|Toy Story (1995)|       Hawaii (1966)| 0.989278067592776|\n",
      "|Toy Story (1995)|Lone Wolf and Cub...|0.9889210628340293|\n",
      "+----------------+--------------------+------------------+\n",
      "only showing top 10 rows"
     ]
    }
   ],
   "source": [
    "from pyspark.sql.functions import sum, sqrt, count, lit\n",
    "\n",
    "#components for cosine similarity and count co-ratings\n",
    "similarity_components = user_movie_ratings.groupBy(\"Similar Movies\").agg(\n",
    "    sum(col(\"rating\") * col(\"toy_story_rating\")).alias(\"dot_product\"),\n",
    "    sqrt(sum(col(\"rating\") * col(\"rating\"))).alias(\"rating_norm\"),\n",
    "    sqrt(sum(col(\"toy_story_rating\") * col(\"toy_story_rating\"))).alias(\"toy_story_norm\"),\n",
    "    count(\"*\").alias(\"co_rating_count\")  #counting the number of co-ratings\n",
    ")\n",
    "\n",
    "#cosine similarity score and applying the co-rating filter\n",
    "similarity_scores = similarity_components.filter(col(\"co_rating_count\") >= 10) \\\n",
    "    .withColumn(\"score\", col(\"dot_product\") / (col(\"rating_norm\") * col(\"toy_story_norm\")))\n",
    "\n",
    "#filtering out toy story itself and selecting columns in the required format\n",
    "similar_movies = similarity_scores.filter(col(\"Similar Movies\") != \"Toy Story (1995)\") \\\n",
    "    .select(\n",
    "        lit(\"Toy Story (1995)\").alias(\"Movie Name\"),\n",
    "        col(\"Similar Movies\"),\n",
    "        col(\"score\")\n",
    "    ) \\\n",
    "    .orderBy(col(\"score\").desc())\n",
    "\n",
    "#10 most similar movies to toy stor\n",
    "similar_movies.show(10)"
   ]
  },
  {
   "cell_type": "code",
   "execution_count": null,
   "id": "7b6821ff-f754-4057-a8d1-438946928c43",
   "metadata": {},
   "outputs": [],
   "source": []
  }
 ],
 "metadata": {
  "kernelspec": {
   "display_name": "PySpark",
   "language": "python",
   "name": "pysparkkernel"
  },
  "language_info": {
   "codemirror_mode": {
    "name": "python",
    "version": 3
   },
   "file_extension": ".py",
   "mimetype": "text/x-python",
   "name": "pyspark",
   "pygments_lexer": "python3"
  }
 },
 "nbformat": 4,
 "nbformat_minor": 5
}
